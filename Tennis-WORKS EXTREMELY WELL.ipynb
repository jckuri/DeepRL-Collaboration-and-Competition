{
 "cells": [
  {
   "cell_type": "markdown",
   "metadata": {},
   "source": [
    "# Collaboration and Competition\n",
    "\n",
    "---\n",
    "\n",
    "You are welcome to use this coding environment to train your agent for the project.  Follow the instructions below to get started!\n",
    "\n",
    "### 1. Start the Environment\n",
    "\n",
    "Run the next code cell to install a few packages.  This line will take a few minutes to run!"
   ]
  },
  {
   "cell_type": "code",
   "execution_count": 1,
   "metadata": {},
   "outputs": [
    {
     "name": "stdout",
     "output_type": "stream",
     "text": [
      "\u001b[31mtensorflow 1.7.1 has requirement numpy>=1.13.3, but you'll have numpy 1.12.1 which is incompatible.\u001b[0m\r\n",
      "\u001b[31mipython 6.5.0 has requirement prompt-toolkit<2.0.0,>=1.0.15, but you'll have prompt-toolkit 3.0.5 which is incompatible.\u001b[0m\r\n"
     ]
    }
   ],
   "source": [
    "!pip -q install ./python"
   ]
  },
  {
   "cell_type": "markdown",
   "metadata": {},
   "source": [
    "The environment is already saved in the Workspace and can be accessed at the file path provided below. "
   ]
  },
  {
   "cell_type": "code",
   "execution_count": 2,
   "metadata": {},
   "outputs": [
    {
     "name": "stderr",
     "output_type": "stream",
     "text": [
      "INFO:unityagents:\n",
      "'Academy' started successfully!\n",
      "Unity Academy name: Academy\n",
      "        Number of Brains: 1\n",
      "        Number of External Brains : 1\n",
      "        Lesson number : 0\n",
      "        Reset Parameters :\n",
      "\t\t\n",
      "Unity brain name: TennisBrain\n",
      "        Number of Visual Observations (per agent): 0\n",
      "        Vector Observation space type: continuous\n",
      "        Vector Observation space size (per agent): 8\n",
      "        Number of stacked Vector Observation: 3\n",
      "        Vector Action space type: continuous\n",
      "        Vector Action space size (per agent): 2\n",
      "        Vector Action descriptions: , \n"
     ]
    }
   ],
   "source": [
    "from unityagents import UnityEnvironment\n",
    "import numpy as np\n",
    "\n",
    "env = UnityEnvironment(file_name=\"/data/Tennis_Linux_NoVis/Tennis\")"
   ]
  },
  {
   "cell_type": "markdown",
   "metadata": {},
   "source": [
    "Environments contain **_brains_** which are responsible for deciding the actions of their associated agents. Here we check for the first brain available, and set it as the default brain we will be controlling from Python."
   ]
  },
  {
   "cell_type": "code",
   "execution_count": 3,
   "metadata": {},
   "outputs": [],
   "source": [
    "# get the default brain\n",
    "brain_name = env.brain_names[0]\n",
    "brain = env.brains[brain_name]"
   ]
  },
  {
   "cell_type": "markdown",
   "metadata": {},
   "source": [
    "### 2. Examine the State and Action Spaces\n",
    "\n",
    "Run the code cell below to print some information about the environment."
   ]
  },
  {
   "cell_type": "code",
   "execution_count": 4,
   "metadata": {},
   "outputs": [
    {
     "name": "stdout",
     "output_type": "stream",
     "text": [
      "Number of agents: 2\n",
      "Size of each action: 2\n",
      "There are 2 agents. Each observes a state with length: 24\n",
      "The state for the first agent looks like: [ 0.          0.          0.          0.          0.          0.          0.\n",
      "  0.          0.          0.          0.          0.          0.          0.\n",
      "  0.          0.         -6.65278625 -1.5        -0.          0.\n",
      "  6.83172083  6.         -0.          0.        ]\n"
     ]
    }
   ],
   "source": [
    "# reset the environment\n",
    "env_info = env.reset(train_mode=True)[brain_name]\n",
    "\n",
    "# number of agents \n",
    "num_agents = len(env_info.agents)\n",
    "print('Number of agents:', num_agents)\n",
    "\n",
    "# size of each action\n",
    "action_size = brain.vector_action_space_size\n",
    "print('Size of each action:', action_size)\n",
    "\n",
    "# examine the state space \n",
    "states = env_info.vector_observations\n",
    "state_size = states.shape[1]\n",
    "print('There are {} agents. Each observes a state with length: {}'.format(states.shape[0], state_size))\n",
    "print('The state for the first agent looks like:', states[0])"
   ]
  },
  {
   "cell_type": "markdown",
   "metadata": {},
   "source": [
    "### 3. Take Random Actions in the Environment\n",
    "\n",
    "In the next code cell, you will learn how to use the Python API to control the agent and receive feedback from the environment.\n",
    "\n",
    "Note that **in this coding environment, you will not be able to watch the agents while they are training**, and you should set `train_mode=True` to restart the environment."
   ]
  },
  {
   "cell_type": "code",
   "execution_count": 5,
   "metadata": {},
   "outputs": [
    {
     "name": "stdout",
     "output_type": "stream",
     "text": [
      "Total score (averaged over agents) this episode: -0.004999999888241291\n",
      "Total score (averaged over agents) this episode: -0.004999999888241291\n",
      "Total score (averaged over agents) this episode: -0.004999999888241291\n",
      "Total score (averaged over agents) this episode: -0.004999999888241291\n",
      "Total score (averaged over agents) this episode: -0.004999999888241291\n"
     ]
    }
   ],
   "source": [
    "for i in range(5):                                         # play game for 5 episodes\n",
    "    env_info = env.reset(train_mode=False)[brain_name]     # reset the environment    \n",
    "    states = env_info.vector_observations                  # get the current state (for each agent)\n",
    "    scores = np.zeros(num_agents)                          # initialize the score (for each agent)\n",
    "    while True:\n",
    "        actions = np.random.randn(num_agents, action_size) # select an action (for each agent)\n",
    "        actions = np.clip(actions, -1, 1)                  # all actions between -1 and 1\n",
    "        env_info = env.step(actions)[brain_name]           # send all actions to tne environment\n",
    "        next_states = env_info.vector_observations         # get next state (for each agent)\n",
    "        rewards = env_info.rewards                         # get reward (for each agent)\n",
    "        dones = env_info.local_done                        # see if episode finished\n",
    "        scores += env_info.rewards                         # update the score (for each agent)\n",
    "        states = next_states                               # roll over states to next time step\n",
    "        if np.any(dones):                                  # exit loop if episode finished\n",
    "            break\n",
    "    print('Total score (averaged over agents) this episode: {}'.format(np.mean(scores)))"
   ]
  },
  {
   "cell_type": "markdown",
   "metadata": {},
   "source": [
    "When finished, you can close the environment."
   ]
  },
  {
   "cell_type": "code",
   "execution_count": 6,
   "metadata": {},
   "outputs": [],
   "source": [
    "#env.close()"
   ]
  },
  {
   "cell_type": "markdown",
   "metadata": {},
   "source": [
    "### 4. It's Your Turn!\n",
    "\n",
    "Now it's your turn to train your own agent to solve the environment!  A few **important notes**:\n",
    "- When training the environment, set `train_mode=True`, so that the line for resetting the environment looks like the following:\n",
    "```python\n",
    "env_info = env.reset(train_mode=True)[brain_name]\n",
    "```\n",
    "- To structure your work, you're welcome to work directly in this Jupyter notebook, or you might like to start over with a new file!  You can see the list of files in the workspace by clicking on **_Jupyter_** in the top left corner of the notebook.\n",
    "- In this coding environment, you will not be able to watch the agents while they are training.  However, **_after training the agents_**, you can download the saved model weights to watch the agents on your own machine! "
   ]
  },
  {
   "cell_type": "markdown",
   "metadata": {},
   "source": [
    "## MY TURN\n",
    "\n",
    "### 1. Import the Necessary Packages"
   ]
  },
  {
   "cell_type": "code",
   "execution_count": 7,
   "metadata": {},
   "outputs": [],
   "source": [
    "import random\n",
    "import torch\n",
    "import numpy as np\n",
    "from collections import deque"
   ]
  },
  {
   "cell_type": "markdown",
   "metadata": {},
   "source": [
    "### 2. Instantiate the Hyperparameters and Agent"
   ]
  },
  {
   "cell_type": "code",
   "execution_count": 8,
   "metadata": {},
   "outputs": [],
   "source": [
    "class HyperParameters:\n",
    "    def __init__(self):\n",
    "        pass\n",
    "    \n",
    "hp = HyperParameters()\n",
    "\n",
    "hp.num_agents = num_agents\n",
    "hp.state_size = 24\n",
    "hp.action_size = 2\n",
    "hp.random_seed = 222\n",
    "hp.buffer_size = int(1e5)  # replay buffer size\n",
    "hp.batch_size = 128        # minibatch size\n",
    "hp.gamma = 0.99            # discount factor\n",
    "hp.tau = 1e-3              # for soft update of target parameters\n",
    "hp.lr_actor = 1e-4 #2e-4         # learning rate of the actor # ADDED\n",
    "hp.lr_critic = 1e-4 #2e-4        # learning rate of the critic # ADDED\n",
    "hp.weight_decay = 0        # L2 weight decay\n",
    "hp.print_every = 100\n",
    "hp.device = torch.device(\"cuda:0\" if torch.cuda.is_available() else \"cpu\")\n",
    "\n",
    "import maddpg\n",
    "maddpg = maddpg.MADDPG(hp)"
   ]
  },
  {
   "cell_type": "markdown",
   "metadata": {},
   "source": [
    "### 3. Train the Agents with MADDPG"
   ]
  },
  {
   "cell_type": "code",
   "execution_count": 9,
   "metadata": {},
   "outputs": [],
   "source": [
    "def save_weights():\n",
    "    for a in range(hp.num_agents):\n",
    "        torch.save(maddpg.agents[a].actor_local.state_dict(), 'checkpoint_actor_{}.pth'.format(a))\n",
    "        torch.save(maddpg.agents[a].critic_local.state_dict(), 'checkpoint_critic_{}.pth'.format(a))"
   ]
  },
  {
   "cell_type": "code",
   "execution_count": 10,
   "metadata": {},
   "outputs": [],
   "source": [
    "def train_maddpg(n_episodes = 50000):\n",
    "    scores = []\n",
    "    scores_deque = deque(maxlen = 100)\n",
    "    avg_scores = []\n",
    "    for iteration in range(1, n_episodes + 1):\n",
    "        env_info = env.reset(train_mode = True)[brain_name]\n",
    "        states = env_info.vector_observations\n",
    "        maddpg.reset()\n",
    "        score = np.zeros(hp.num_agents)\n",
    "        while True:\n",
    "            actions = maddpg.act(states)\n",
    "            env_info = env.step(actions)[brain_name]\n",
    "            next_states = env_info.vector_observations\n",
    "            rewards = env_info.rewards\n",
    "            dones = env_info.local_done\n",
    "            maddpg.step(states, actions, rewards, next_states, dones)\n",
    "            score += rewards\n",
    "            states = next_states\n",
    "            if np.any(dones): break\n",
    "        max_score = np.max(score)\n",
    "        scores.append(max_score)\n",
    "        scores_deque.append(max_score)\n",
    "        avg_score = np.mean(scores_deque) \n",
    "        avg_scores.append(avg_score)\n",
    "        print('\\rEpisode {}\\tAverage Score: {:.4f}'.format(iteration, avg_score), end=\"\")\n",
    "        if iteration % hp.print_every == 0:\n",
    "            print('\\rEpisode {}\\tAverage Score: {:.4f}'.format(iteration, avg_score))\n",
    "            save_weights()\n",
    "        if avg_score >= 0.5:\n",
    "            print('\\nEnvironment solved in {:d} episodes!\\tAverage Score: {:.4f}'.format(iteration, avg_score))\n",
    "            save_weights()\n",
    "            break\n",
    "    return scores, avg_scores"
   ]
  },
  {
   "cell_type": "code",
   "execution_count": 11,
   "metadata": {},
   "outputs": [
    {
     "name": "stdout",
     "output_type": "stream",
     "text": [
      "Episode 100\tAverage Score: 0.0110\n",
      "Episode 200\tAverage Score: 0.0060\n",
      "Episode 300\tAverage Score: 0.0432\n",
      "Episode 400\tAverage Score: 0.0523\n",
      "Episode 500\tAverage Score: 0.0455\n",
      "Episode 600\tAverage Score: 0.0664\n",
      "Episode 700\tAverage Score: 0.1158\n",
      "Episode 775\tAverage Score: 0.5023\n",
      "Environment solved in 775 episodes!\tAverage Score: 0.5023\n"
     ]
    }
   ],
   "source": [
    "scores, avg_scores = train_maddpg()"
   ]
  },
  {
   "cell_type": "markdown",
   "metadata": {},
   "source": [
    "### 4. Plot of Rewards (Training)"
   ]
  },
  {
   "cell_type": "code",
   "execution_count": 12,
   "metadata": {},
   "outputs": [],
   "source": [
    "import matplotlib.pyplot as plt\n",
    "%matplotlib inline"
   ]
  },
  {
   "cell_type": "code",
   "execution_count": 13,
   "metadata": {},
   "outputs": [
    {
     "data": {
      "image/png": "[encoded data removed]",
      "text/plain": [
       "<matplotlib.figure.Figure at 0x7f64bd4099b0>"
      ]
     },
     "metadata": {
      "needs_background": "light"
     },
     "output_type": "display_data"
    }
   ],
   "source": [
    "# plot the scores\n",
    "fig = plt.figure()\n",
    "plt.title('Plot of Rewards (Training)')\n",
    "episodes = np.arange(1, len(scores) + 1)\n",
    "plt.plot(episodes, scores, label = 'Score of DDPG')\n",
    "plt.plot(episodes, avg_scores, 'r', label = 'Average score')\n",
    "plt.ylabel('Score')\n",
    "plt.xlabel('Episode')\n",
    "plt.show()"
   ]
  },
  {
   "cell_type": "markdown",
   "metadata": {},
   "source": [
    "### 5. Test agents after training"
   ]
  },
  {
   "cell_type": "code",
   "execution_count": 14,
   "metadata": {},
   "outputs": [
    {
     "name": "stdout",
     "output_type": "stream",
     "text": [
      "Episode 1\tScore: 1.1000\n",
      "Episode 2\tScore: 2.6000\n",
      "Episode 3\tScore: 0.6000\n",
      "Episode 4\tScore: 0.1000\n",
      "Episode 5\tScore: 0.0000\n",
      "Episode 6\tScore: 1.0000\n",
      "Episode 7\tScore: 1.4000\n",
      "Episode 8\tScore: 0.6000\n",
      "Episode 9\tScore: 0.1000\n",
      "Episode 10\tScore: 0.4000\n",
      "Episode 11\tScore: 0.2000\n",
      "Episode 12\tScore: 0.3000\n",
      "Episode 13\tScore: 0.1000\n",
      "Episode 14\tScore: 1.4000\n",
      "Episode 15\tScore: 2.6000\n",
      "Episode 16\tScore: 2.1000\n",
      "Episode 17\tScore: 2.3900\n",
      "Episode 18\tScore: 0.3000\n",
      "Episode 19\tScore: 0.5000\n",
      "Episode 20\tScore: 0.2000\n",
      "Episode 21\tScore: 0.1000\n",
      "Episode 22\tScore: 0.4000\n",
      "Episode 23\tScore: 0.1000\n",
      "Episode 24\tScore: 2.3000\n",
      "Episode 25\tScore: 2.6000\n",
      "Episode 26\tScore: 2.7000\n",
      "Episode 27\tScore: 0.3000\n",
      "Episode 28\tScore: 2.6000\n",
      "Episode 29\tScore: 0.9900\n",
      "Episode 30\tScore: 1.6000\n",
      "Episode 31\tScore: 0.1000\n",
      "Episode 32\tScore: 1.7000\n",
      "Episode 33\tScore: 1.6900\n",
      "Episode 34\tScore: 1.9900\n",
      "Episode 35\tScore: 2.6000\n",
      "Episode 36\tScore: 1.3000\n",
      "Episode 37\tScore: 0.4000\n",
      "Episode 38\tScore: 1.7000\n",
      "Episode 39\tScore: 2.2000\n",
      "Episode 40\tScore: 1.3000\n",
      "Episode 41\tScore: 2.6000\n",
      "Episode 42\tScore: 1.8000\n",
      "Episode 43\tScore: 1.4000\n",
      "Episode 44\tScore: 1.8000\n",
      "Episode 45\tScore: 1.9000\n",
      "Episode 46\tScore: 2.6000\n",
      "Episode 47\tScore: 2.7000\n",
      "Episode 48\tScore: 2.6000\n",
      "Episode 49\tScore: 0.2000\n",
      "Episode 50\tScore: 2.6000\n"
     ]
    }
   ],
   "source": [
    "n_episodes = 50\n",
    "eps = 0.\n",
    "test_scores = []\n",
    "for i_episode in range(1, n_episodes+1):\n",
    "    env_info = env.reset(train_mode = False)[brain_name] # reset the environment\n",
    "    states = env_info.vector_observations              # get the current state\n",
    "    maddpg.reset()\n",
    "    scores = np.zeros(hp.num_agents)\n",
    "    while True:\n",
    "        actions = maddpg.act(states)\n",
    "        env_info = env.step(actions)[brain_name]        # send the action to the environment\n",
    "        next_states = env_info.vector_observations   # get the next state\n",
    "        rewards = env_info.rewards                   # get the reward\n",
    "        dones = env_info.local_done                  # see if episode has finished\n",
    "        maddpg.step(states, actions, rewards, next_states, dones) # learning step\n",
    "        scores += rewards                                # update the score\n",
    "        states = next_states                             # roll over the state to next time step\n",
    "        if np.any(dones): break                                 # exit loop if episode finished\n",
    "    max_score = np.max(scores)\n",
    "    test_scores.append(max_score)              # save most recent score\n",
    "    print('Episode {}\\tScore: {:.4f}'.format(i_episode, max_score))"
   ]
  },
  {
   "cell_type": "markdown",
   "metadata": {},
   "source": [
    "### 6. Plot of Rewards (Testing)"
   ]
  },
  {
   "cell_type": "code",
   "execution_count": 15,
   "metadata": {},
   "outputs": [
    {
     "data": {
      "image/png": "[encoded data removed]",
      "text/plain": [
       "<matplotlib.figure.Figure at 0x7f64bd409630>"
      ]
     },
     "metadata": {
      "needs_background": "light"
     },
     "output_type": "display_data"
    }
   ],
   "source": [
    "n_scores = len(test_scores)\n",
    "line = [0.5 for i in range(n_scores)]\n",
    "episodes = np.arange(1, n_scores + 1)\n",
    "\n",
    "fig = plt.figure()\n",
    "plt.title('Plot of Rewards (Testing)')\n",
    "plt.plot(episodes, test_scores)\n",
    "plt.plot(episodes, line, 'r')\n",
    "plt.ylabel('Score')\n",
    "plt.xlabel('Episode')\n",
    "plt.show()"
   ]
  },
  {
   "cell_type": "markdown",
   "metadata": {},
   "source": [
    "### 7. Close environment"
   ]
  },
  {
   "cell_type": "code",
   "execution_count": null,
   "metadata": {},
   "outputs": [],
   "source": [
    "env.close()"
   ]
  },
  {
   "cell_type": "markdown",
   "metadata": {},
   "source": [
    "### Backup project in order to download it with just 1 file"
   ]
  },
  {
   "cell_type": "code",
   "execution_count": 21,
   "metadata": {},
   "outputs": [
    {
     "name": "stdout",
     "output_type": "stream",
     "text": [
      "  adding: Tennis.ipynb (deflated 40%)\r\n",
      "  adding: checkpoint_actor_0.pth (deflated 7%)\r\n",
      "  adding: checkpoint_actor_1.pth (deflated 7%)\r\n",
      "  adding: checkpoint_critic_0.pth (deflated 8%)\r\n",
      "  adding: checkpoint_critic_1.pth (deflated 8%)\r\n",
      "  adding: ddpg.py (deflated 70%)\r\n",
      "  adding: maddpg.py (deflated 66%)\r\n",
      "  adding: model.py (deflated 76%)\r\n",
      "  adding: ounoise.py (deflated 58%)\r\n",
      "  adding: replay_buffer.py (deflated 69%)\r\n",
      "  adding: unity-environment.log (stored 0%)\r\n"
     ]
    }
   ],
   "source": [
    "#!zip -r BACKUP_PROJECT3.ZIP *.*"
   ]
  },
  {
   "cell_type": "code",
   "execution_count": null,
   "metadata": {},
   "outputs": [],
   "source": []
  }
 ],
 "metadata": {
  "kernelspec": {
   "display_name": "Python 3",
   "language": "python",
   "name": "python3"
  },
  "language_info": {
   "codemirror_mode": {
    "name": "ipython",
    "version": 3
   },
   "file_extension": ".py",
   "mimetype": "text/x-python",
   "name": "python",
   "nbconvert_exporter": "python",
   "pygments_lexer": "ipython3",
   "version": "3.6.3"
  }
 },
 "nbformat": 4,
 "nbformat_minor": 2
}
